{
 "cells": [
  {
   "cell_type": "code",
   "execution_count": 1,
   "id": "ae1d747e",
   "metadata": {},
   "outputs": [],
   "source": [
    "import numpy as np\n",
    "import pandas as pd\n",
    "from sklearn.model_selection import train_test_split\n",
    "from sklearn.metrics import classification_report, accuracy_score, confusion_matrix\n",
    "import tensorflow as tf\n",
    "from tensorflow.keras.models import Sequential\n",
    "from tensorflow.keras.layers import Dense, Dropout, BatchNormalization, Conv1D, MaxPooling1D, Flatten\n",
    "from tensorflow.keras.callbacks import EarlyStopping\n",
    "from tensorflow.keras.utils import to_categorical\n"
   ]
  },
  {
   "cell_type": "code",
   "execution_count": 6,
   "id": "f1c2dcfd",
   "metadata": {},
   "outputs": [
    {
     "name": "stdout",
     "output_type": "stream",
     "text": [
      "C:\\Users\\student\\Desktop\\AV\\brainwaves-csv\\Raw concatenated\n"
     ]
    }
   ],
   "source": [
    "cd Raw concatenated"
   ]
  },
  {
   "cell_type": "code",
   "execution_count": 7,
   "id": "d4992493",
   "metadata": {},
   "outputs": [],
   "source": [
    "df_raw_backward= pd.read_csv('final_raw_backward.csv')"
   ]
  },
  {
   "cell_type": "code",
   "execution_count": 8,
   "id": "38261a76",
   "metadata": {},
   "outputs": [],
   "source": [
    "df_raw_backward['label']=0"
   ]
  },
  {
   "cell_type": "code",
   "execution_count": 9,
   "id": "636a4cbe",
   "metadata": {},
   "outputs": [],
   "source": [
    "df_raw_forward= pd.read_csv('final_raw_forward.csv')"
   ]
  },
  {
   "cell_type": "code",
   "execution_count": 10,
   "id": "f334fc33",
   "metadata": {},
   "outputs": [],
   "source": [
    "df_raw_forward['label']=1"
   ]
  },
  {
   "cell_type": "code",
   "execution_count": 11,
   "id": "b1814acf",
   "metadata": {},
   "outputs": [],
   "source": [
    "df_raw_left= pd.read_csv('final_raw_left.csv')"
   ]
  },
  {
   "cell_type": "code",
   "execution_count": 12,
   "id": "84532fff",
   "metadata": {},
   "outputs": [],
   "source": [
    "df_raw_left['label']=2"
   ]
  },
  {
   "cell_type": "code",
   "execution_count": 13,
   "id": "e5e10bba",
   "metadata": {},
   "outputs": [],
   "source": [
    "df_raw_right= pd.read_csv('final_raw_right.csv')"
   ]
  },
  {
   "cell_type": "code",
   "execution_count": 14,
   "id": "69524013",
   "metadata": {},
   "outputs": [],
   "source": [
    "df_raw_right['label']=3"
   ]
  },
  {
   "cell_type": "code",
   "execution_count": 15,
   "id": "1fbbeb58",
   "metadata": {},
   "outputs": [],
   "source": [
    "df_raw_land= pd.read_csv('final_raw_land.csv')"
   ]
  },
  {
   "cell_type": "code",
   "execution_count": 16,
   "id": "1f95a860",
   "metadata": {},
   "outputs": [],
   "source": [
    "df_raw_land['label']=4"
   ]
  },
  {
   "cell_type": "code",
   "execution_count": 17,
   "id": "95e9d971",
   "metadata": {},
   "outputs": [],
   "source": [
    "df_raw_takeoff= pd.read_csv('final_raw_takeoff.csv')"
   ]
  },
  {
   "cell_type": "code",
   "execution_count": 18,
   "id": "ba2b7c27",
   "metadata": {},
   "outputs": [],
   "source": [
    "df_raw_takeoff['label']=5"
   ]
  },
  {
   "cell_type": "code",
   "execution_count": 19,
   "id": "0b23aece",
   "metadata": {},
   "outputs": [],
   "source": [
    "df=pd.concat([df_raw_backward,df_raw_forward,df_raw_left,df_raw_right,df_raw_land,df_raw_takeoff], ignore_index=True)"
   ]
  },
  {
   "cell_type": "code",
   "execution_count": 20,
   "id": "46628bb6",
   "metadata": {},
   "outputs": [],
   "source": [
    "df = shuffle(df, random_state=42)"
   ]
  },
  {
   "cell_type": "code",
   "execution_count": 21,
   "id": "f4793c0c",
   "metadata": {},
   "outputs": [
    {
     "name": "stdout",
     "output_type": "stream",
     "text": [
      "<class 'pandas.core.frame.DataFrame'>\n",
      "Index: 2498750 entries, 365063 to 2219110\n",
      "Data columns (total 17 columns):\n",
      " #   Column           Dtype  \n",
      "---  ------           -----  \n",
      " 0    EXG Channel 0   float64\n",
      " 1    EXG Channel 1   float64\n",
      " 2    EXG Channel 2   float64\n",
      " 3    EXG Channel 3   float64\n",
      " 4    EXG Channel 4   float64\n",
      " 5    EXG Channel 5   float64\n",
      " 6    EXG Channel 6   float64\n",
      " 7    EXG Channel 7   float64\n",
      " 8    EXG Channel 8   float64\n",
      " 9    EXG Channel 9   float64\n",
      " 10   EXG Channel 10  float64\n",
      " 11   EXG Channel 11  float64\n",
      " 12   EXG Channel 12  float64\n",
      " 13   EXG Channel 13  float64\n",
      " 14   EXG Channel 14  float64\n",
      " 15   EXG Channel 15  float64\n",
      " 16  label            int64  \n",
      "dtypes: float64(16), int64(1)\n",
      "memory usage: 343.2 MB\n"
     ]
    }
   ],
   "source": [
    "df.info()"
   ]
  },
  {
   "cell_type": "code",
   "execution_count": 19,
   "id": "ce9a8346",
   "metadata": {},
   "outputs": [
    {
     "data": {
      "text/html": [
       "<div>\n",
       "<style scoped>\n",
       "    .dataframe tbody tr th:only-of-type {\n",
       "        vertical-align: middle;\n",
       "    }\n",
       "\n",
       "    .dataframe tbody tr th {\n",
       "        vertical-align: top;\n",
       "    }\n",
       "\n",
       "    .dataframe thead th {\n",
       "        text-align: right;\n",
       "    }\n",
       "</style>\n",
       "<table border=\"1\" class=\"dataframe\">\n",
       "  <thead>\n",
       "    <tr style=\"text-align: right;\">\n",
       "      <th></th>\n",
       "      <th>EXG Channel 0</th>\n",
       "      <th>EXG Channel 1</th>\n",
       "      <th>EXG Channel 2</th>\n",
       "      <th>EXG Channel 3</th>\n",
       "      <th>EXG Channel 4</th>\n",
       "      <th>EXG Channel 5</th>\n",
       "      <th>EXG Channel 6</th>\n",
       "      <th>EXG Channel 7</th>\n",
       "      <th>EXG Channel 8</th>\n",
       "      <th>EXG Channel 9</th>\n",
       "      <th>EXG Channel 10</th>\n",
       "      <th>EXG Channel 11</th>\n",
       "      <th>EXG Channel 12</th>\n",
       "      <th>EXG Channel 13</th>\n",
       "      <th>EXG Channel 14</th>\n",
       "      <th>EXG Channel 15</th>\n",
       "      <th>label</th>\n",
       "    </tr>\n",
       "  </thead>\n",
       "  <tbody>\n",
       "    <tr>\n",
       "      <th>110268</th>\n",
       "      <td>7573.933312</td>\n",
       "      <td>26463.057275</td>\n",
       "      <td>187500.000000</td>\n",
       "      <td>-45657.886047</td>\n",
       "      <td>1650.609273</td>\n",
       "      <td>-14008.061768</td>\n",
       "      <td>-187500.022352</td>\n",
       "      <td>-24351.465625</td>\n",
       "      <td>-12838.104408</td>\n",
       "      <td>7483.721672</td>\n",
       "      <td>-43790.822481</td>\n",
       "      <td>187500.000000</td>\n",
       "      <td>-31713.236179</td>\n",
       "      <td>-41882.341132</td>\n",
       "      <td>-4196.562373</td>\n",
       "      <td>-21094.525885</td>\n",
       "      <td>0</td>\n",
       "    </tr>\n",
       "    <tr>\n",
       "      <th>1692743</th>\n",
       "      <td>40725.638357</td>\n",
       "      <td>-187500.022352</td>\n",
       "      <td>-15953.445846</td>\n",
       "      <td>-17151.700515</td>\n",
       "      <td>-20561.950870</td>\n",
       "      <td>-19758.159787</td>\n",
       "      <td>-187500.022352</td>\n",
       "      <td>-19110.741509</td>\n",
       "      <td>-11391.208934</td>\n",
       "      <td>-15716.740872</td>\n",
       "      <td>9552.755601</td>\n",
       "      <td>-28242.479651</td>\n",
       "      <td>-21172.488770</td>\n",
       "      <td>-28743.963390</td>\n",
       "      <td>19438.194566</td>\n",
       "      <td>7344.291490</td>\n",
       "      <td>4</td>\n",
       "    </tr>\n",
       "    <tr>\n",
       "      <th>2356330</th>\n",
       "      <td>-37327.815572</td>\n",
       "      <td>-12486.310302</td>\n",
       "      <td>-86566.361674</td>\n",
       "      <td>-80752.315313</td>\n",
       "      <td>-19796.291863</td>\n",
       "      <td>-54360.470696</td>\n",
       "      <td>-158691.037737</td>\n",
       "      <td>-71304.255283</td>\n",
       "      <td>-9583.422194</td>\n",
       "      <td>-187500.022352</td>\n",
       "      <td>-85287.283097</td>\n",
       "      <td>-78625.032738</td>\n",
       "      <td>-54218.827691</td>\n",
       "      <td>-46427.590719</td>\n",
       "      <td>-82807.737030</td>\n",
       "      <td>-83771.879527</td>\n",
       "      <td>5</td>\n",
       "    </tr>\n",
       "    <tr>\n",
       "      <th>2229084</th>\n",
       "      <td>6915.070941</td>\n",
       "      <td>42529.424134</td>\n",
       "      <td>-57956.732268</td>\n",
       "      <td>-60729.779092</td>\n",
       "      <td>-36113.579406</td>\n",
       "      <td>-35763.148756</td>\n",
       "      <td>-187500.022352</td>\n",
       "      <td>-15949.087256</td>\n",
       "      <td>-8106.776548</td>\n",
       "      <td>-46144.327062</td>\n",
       "      <td>-54517.469349</td>\n",
       "      <td>-51357.267959</td>\n",
       "      <td>-23679.102800</td>\n",
       "      <td>-30909.087468</td>\n",
       "      <td>-61629.280344</td>\n",
       "      <td>-43929.805628</td>\n",
       "      <td>5</td>\n",
       "    </tr>\n",
       "    <tr>\n",
       "      <th>2219110</th>\n",
       "      <td>-16912.402739</td>\n",
       "      <td>-25568.719276</td>\n",
       "      <td>-25375.220224</td>\n",
       "      <td>-4013.345124</td>\n",
       "      <td>-55771.469268</td>\n",
       "      <td>-47076.685378</td>\n",
       "      <td>138483.630238</td>\n",
       "      <td>-47711.787845</td>\n",
       "      <td>-11091.963779</td>\n",
       "      <td>-17932.223431</td>\n",
       "      <td>-36977.250812</td>\n",
       "      <td>-31154.219050</td>\n",
       "      <td>-42578.910897</td>\n",
       "      <td>-30389.185892</td>\n",
       "      <td>-24839.091282</td>\n",
       "      <td>-32000.746667</td>\n",
       "      <td>5</td>\n",
       "    </tr>\n",
       "  </tbody>\n",
       "</table>\n",
       "</div>"
      ],
      "text/plain": [
       "          EXG Channel 0   EXG Channel 1   EXG Channel 2   EXG Channel 3  \\\n",
       "110268      7573.933312    26463.057275   187500.000000   -45657.886047   \n",
       "1692743    40725.638357  -187500.022352   -15953.445846   -17151.700515   \n",
       "2356330   -37327.815572   -12486.310302   -86566.361674   -80752.315313   \n",
       "2229084     6915.070941    42529.424134   -57956.732268   -60729.779092   \n",
       "2219110   -16912.402739   -25568.719276   -25375.220224    -4013.345124   \n",
       "\n",
       "          EXG Channel 4   EXG Channel 5   EXG Channel 6   EXG Channel 7  \\\n",
       "110268      1650.609273   -14008.061768  -187500.022352   -24351.465625   \n",
       "1692743   -20561.950870   -19758.159787  -187500.022352   -19110.741509   \n",
       "2356330   -19796.291863   -54360.470696  -158691.037737   -71304.255283   \n",
       "2229084   -36113.579406   -35763.148756  -187500.022352   -15949.087256   \n",
       "2219110   -55771.469268   -47076.685378   138483.630238   -47711.787845   \n",
       "\n",
       "          EXG Channel 8   EXG Channel 9   EXG Channel 10   EXG Channel 11  \\\n",
       "110268    -12838.104408     7483.721672    -43790.822481    187500.000000   \n",
       "1692743   -11391.208934   -15716.740872      9552.755601    -28242.479651   \n",
       "2356330    -9583.422194  -187500.022352    -85287.283097    -78625.032738   \n",
       "2229084    -8106.776548   -46144.327062    -54517.469349    -51357.267959   \n",
       "2219110   -11091.963779   -17932.223431    -36977.250812    -31154.219050   \n",
       "\n",
       "          EXG Channel 12   EXG Channel 13   EXG Channel 14   EXG Channel 15  \\\n",
       "110268     -31713.236179    -41882.341132     -4196.562373    -21094.525885   \n",
       "1692743    -21172.488770    -28743.963390     19438.194566      7344.291490   \n",
       "2356330    -54218.827691    -46427.590719    -82807.737030    -83771.879527   \n",
       "2229084    -23679.102800    -30909.087468    -61629.280344    -43929.805628   \n",
       "2219110    -42578.910897    -30389.185892    -24839.091282    -32000.746667   \n",
       "\n",
       "         label  \n",
       "110268       0  \n",
       "1692743      4  \n",
       "2356330      5  \n",
       "2229084      5  \n",
       "2219110      5  "
      ]
     },
     "execution_count": 19,
     "metadata": {},
     "output_type": "execute_result"
    }
   ],
   "source": [
    "df.tail()"
   ]
  },
  {
   "cell_type": "code",
   "execution_count": 22,
   "id": "defb8881",
   "metadata": {},
   "outputs": [],
   "source": [
    "X = df.iloc[:, :-1] \n",
    "y = df.iloc[:, -1]  \n"
   ]
  },
  {
   "cell_type": "code",
   "execution_count": 23,
   "id": "68fd251a",
   "metadata": {},
   "outputs": [],
   "source": [
    "# Standardize the features\n",
    "scaler = StandardScaler()\n",
    "X_scaled = scaler.fit_transform(X)"
   ]
  },
  {
   "cell_type": "code",
   "execution_count": 24,
   "id": "8ac343be",
   "metadata": {},
   "outputs": [],
   "source": [
    "\n",
    "# Reshape X for Conv1D\n",
    "X_scaled = X_scaled.reshape(X_scaled.shape[0], 16, 1)"
   ]
  },
  {
   "cell_type": "code",
   "execution_count": 25,
   "id": "0a4a0aa9",
   "metadata": {},
   "outputs": [],
   "source": [
    "X_train, X_test, y_train, y_test = train_test_split(X_scaled, y, test_size=0.2, random_state=42)"
   ]
  },
  {
   "cell_type": "code",
   "execution_count": 26,
   "id": "3ce69aa7",
   "metadata": {},
   "outputs": [],
   "source": [
    "# Convert labels to one-hot encoding for multi-class classification\n",
    "y_train = to_categorical(y_train, num_classes=6)\n",
    "y_test = to_categorical(y_test, num_classes=6)"
   ]
  },
  {
   "cell_type": "code",
   "execution_count": 26,
   "id": "a28e4561",
   "metadata": {},
   "outputs": [],
   "source": [
    "# Model setup\n",
    "model = Sequential([\n",
    "    Conv1D(filters=64, kernel_size=3, activation='relu', input_shape=(16, 1)),\n",
    "    BatchNormalization(),\n",
    "    MaxPooling1D(pool_size=2, strides=2),\n",
    "\n",
    "    Conv1D(filters=128, kernel_size=3, activation='relu'),\n",
    "    BatchNormalization(),\n",
    "    MaxPooling1D(pool_size=2, strides=2),\n",
    "\n",
    "    Flatten(),\n",
    "    Dense(128, activation='relu'),\n",
    "    Dropout(0.5),\n",
    "    Dense(6, activation='softmax')  # Output layer for 6 classes\n",
    "])\n"
   ]
  },
  {
   "cell_type": "code",
   "execution_count": 27,
   "id": "9927d7a9",
   "metadata": {},
   "outputs": [],
   "source": [
    "# Compile the model\n",
    "model.compile(optimizer='adam', loss='categorical_crossentropy', metrics=['accuracy'])"
   ]
  },
  {
   "cell_type": "code",
   "execution_count": 31,
   "id": "7eaa2090",
   "metadata": {},
   "outputs": [
    {
     "name": "stdout",
     "output_type": "stream",
     "text": [
      "Epoch 1/100\n",
      "7809/7809 [==============================] - 218s 28ms/step - loss: 0.0727 - accuracy: 0.9734 - val_loss: 0.0317 - val_accuracy: 0.9884\n",
      "Epoch 2/100\n",
      "7809/7809 [==============================] - 223s 29ms/step - loss: 0.0576 - accuracy: 0.9783 - val_loss: 0.0320 - val_accuracy: 0.9880\n",
      "Epoch 3/100\n",
      "7809/7809 [==============================] - 208s 27ms/step - loss: 0.0498 - accuracy: 0.9813 - val_loss: 0.0386 - val_accuracy: 0.9857\n",
      "Epoch 4/100\n",
      "7809/7809 [==============================] - 207s 26ms/step - loss: 0.0449 - accuracy: 0.9831 - val_loss: 0.0314 - val_accuracy: 0.9861\n",
      "Epoch 5/100\n",
      "7809/7809 [==============================] - 186s 24ms/step - loss: 0.0412 - accuracy: 0.9844 - val_loss: 0.0252 - val_accuracy: 0.9896\n",
      "Epoch 6/100\n",
      "7809/7809 [==============================] - 159s 20ms/step - loss: 0.0388 - accuracy: 0.9853 - val_loss: 0.0236 - val_accuracy: 0.9904\n",
      "Epoch 7/100\n",
      "7809/7809 [==============================] - 158s 20ms/step - loss: 0.0364 - accuracy: 0.9861 - val_loss: 0.0254 - val_accuracy: 0.9904\n",
      "Epoch 8/100\n",
      "7809/7809 [==============================] - 149s 19ms/step - loss: 0.0350 - accuracy: 0.9868 - val_loss: 0.0249 - val_accuracy: 0.9902\n",
      "Epoch 9/100\n",
      "7809/7809 [==============================] - 151s 19ms/step - loss: 0.0336 - accuracy: 0.9871 - val_loss: 0.0245 - val_accuracy: 0.9906\n",
      "Epoch 10/100\n",
      "7809/7809 [==============================] - 162s 21ms/step - loss: 0.0322 - accuracy: 0.9877 - val_loss: 0.0230 - val_accuracy: 0.9907\n",
      "Epoch 11/100\n",
      "7809/7809 [==============================] - 152s 19ms/step - loss: 0.0315 - accuracy: 0.9880 - val_loss: 0.0185 - val_accuracy: 0.9925\n",
      "Epoch 12/100\n",
      "7809/7809 [==============================] - 155s 20ms/step - loss: 0.0305 - accuracy: 0.9883 - val_loss: 0.0210 - val_accuracy: 0.9913\n",
      "Epoch 13/100\n",
      "7809/7809 [==============================] - 139s 18ms/step - loss: 0.0298 - accuracy: 0.9885 - val_loss: 0.0205 - val_accuracy: 0.9915\n",
      "Epoch 14/100\n",
      "7809/7809 [==============================] - 135s 17ms/step - loss: 0.0294 - accuracy: 0.9887 - val_loss: 0.0234 - val_accuracy: 0.9897\n",
      "Epoch 15/100\n",
      "7809/7809 [==============================] - 143s 18ms/step - loss: 0.0285 - accuracy: 0.9890 - val_loss: 0.0193 - val_accuracy: 0.9921\n",
      "Epoch 16/100\n",
      "7809/7809 [==============================] - 138s 18ms/step - loss: 0.0282 - accuracy: 0.9892 - val_loss: 0.0181 - val_accuracy: 0.9927\n",
      "Epoch 17/100\n",
      "7809/7809 [==============================] - 161s 21ms/step - loss: 0.0272 - accuracy: 0.9894 - val_loss: 0.0185 - val_accuracy: 0.9925\n",
      "Epoch 18/100\n",
      "7809/7809 [==============================] - 163s 21ms/step - loss: 0.0274 - accuracy: 0.9893 - val_loss: 0.0197 - val_accuracy: 0.9921\n",
      "Epoch 19/100\n",
      "7809/7809 [==============================] - 162s 21ms/step - loss: 0.0269 - accuracy: 0.9895 - val_loss: 0.0201 - val_accuracy: 0.9923\n",
      "Epoch 20/100\n",
      "7809/7809 [==============================] - 168s 21ms/step - loss: 0.0262 - accuracy: 0.9897 - val_loss: 0.0263 - val_accuracy: 0.9894\n",
      "Epoch 21/100\n",
      "7809/7809 [==============================] - ETA: 0s - loss: 0.0263 - accuracy: 0.9897Restoring model weights from the end of the best epoch: 16.\n",
      "7809/7809 [==============================] - 162s 21ms/step - loss: 0.0263 - accuracy: 0.9897 - val_loss: 0.0191 - val_accuracy: 0.9918\n",
      "Epoch 21: early stopping\n"
     ]
    }
   ],
   "source": [
    " #Early Stopping Callback\n",
    "early_stopping = EarlyStopping(monitor='val_loss', patience=5, verbose=1, restore_best_weights=True)\n",
    "\n",
    "# Train the model\n",
    "history = model.fit(X_train, y_train, epochs=100, batch_size=256,\n",
    "                    validation_data=(X_test, y_test), callbacks=[early_stopping])"
   ]
  },
  {
   "cell_type": "code",
   "execution_count": 36,
   "id": "c4a0bc1f",
   "metadata": {},
   "outputs": [],
   "source": [
    "model.save('EEG_model.h5')"
   ]
  },
  {
   "cell_type": "code",
   "execution_count": 3,
   "id": "b92a7858",
   "metadata": {},
   "outputs": [],
   "source": [
    "from keras.models import load_model\n",
    "\n",
    "# Load the model from the file\n",
    "model = load_model('EEG_model.h5')"
   ]
  },
  {
   "cell_type": "code",
   "execution_count": 29,
   "id": "93e5406f",
   "metadata": {},
   "outputs": [
    {
     "name": "stdout",
     "output_type": "stream",
     "text": [
      "Model: \"sequential\"\n",
      "_________________________________________________________________\n",
      " Layer (type)                Output Shape              Param #   \n",
      "=================================================================\n",
      " conv1d (Conv1D)             (None, 14, 64)            256       \n",
      "                                                                 \n",
      " batch_normalization (Batch  (None, 14, 64)            256       \n",
      " Normalization)                                                  \n",
      "                                                                 \n",
      " max_pooling1d (MaxPooling1  (None, 7, 64)             0         \n",
      " D)                                                              \n",
      "                                                                 \n",
      " conv1d_1 (Conv1D)           (None, 5, 128)            24704     \n",
      "                                                                 \n",
      " batch_normalization_1 (Bat  (None, 5, 128)            512       \n",
      " chNormalization)                                                \n",
      "                                                                 \n",
      " max_pooling1d_1 (MaxPoolin  (None, 2, 128)            0         \n",
      " g1D)                                                            \n",
      "                                                                 \n",
      " flatten (Flatten)           (None, 256)               0         \n",
      "                                                                 \n",
      " dense (Dense)               (None, 128)               32896     \n",
      "                                                                 \n",
      " dropout (Dropout)           (None, 128)               0         \n",
      "                                                                 \n",
      " dense_1 (Dense)             (None, 6)                 774       \n",
      "                                                                 \n",
      "=================================================================\n",
      "Total params: 59398 (232.02 KB)\n",
      "Trainable params: 59014 (230.52 KB)\n",
      "Non-trainable params: 384 (1.50 KB)\n",
      "_________________________________________________________________\n"
     ]
    }
   ],
   "source": [
    "model.summary()"
   ]
  },
  {
   "cell_type": "code",
   "execution_count": 36,
   "id": "018918eb",
   "metadata": {},
   "outputs": [
    {
     "name": "stdout",
     "output_type": "stream",
     "text": [
      "15618/15618 [==============================] - 41s 3ms/step\n"
     ]
    }
   ],
   "source": [
    "from sklearn.metrics import classification_report, accuracy_score, confusion_matrix\n",
    "\n",
    "# Predict the classes with the model\n",
    "predictions = model.predict(X_test)\n",
    "predicted_classes = np.argmax(predictions, axis=1)\n",
    "true_classes = np.argmax(y_test, axis=1)"
   ]
  },
  {
   "cell_type": "code",
   "execution_count": 37,
   "id": "fb850041",
   "metadata": {},
   "outputs": [
    {
     "name": "stdout",
     "output_type": "stream",
     "text": [
      "Accuracy: 99.27%\n"
     ]
    }
   ],
   "source": [
    "accuracy = accuracy_score(true_classes, predicted_classes)\n",
    "print(f'Accuracy: {accuracy * 100:.2f}%')"
   ]
  },
  {
   "cell_type": "code",
   "execution_count": 38,
   "id": "52839fd2",
   "metadata": {},
   "outputs": [
    {
     "name": "stdout",
     "output_type": "stream",
     "text": [
      "Classification Report:\n",
      "               precision    recall  f1-score   support\n",
      "\n",
      "    Backward       1.00      1.00      1.00     83277\n",
      "     Forward       0.97      1.00      0.98     87074\n",
      "        Left       1.00      1.00      1.00     82467\n",
      "       Right       0.99      1.00      1.00     82160\n",
      "        Land       1.00      1.00      1.00     82053\n",
      "     Takeoff       1.00      0.97      0.98     82719\n",
      "\n",
      "    accuracy                           0.99    499750\n",
      "   macro avg       0.99      0.99      0.99    499750\n",
      "weighted avg       0.99      0.99      0.99    499750\n",
      "\n"
     ]
    }
   ],
   "source": [
    "report = classification_report(true_classes, predicted_classes, target_names=['Backward', 'Forward', 'Left', 'Right', 'Land', 'Takeoff'])\n",
    "print(\"Classification Report:\\n\", report)\n"
   ]
  },
  {
   "cell_type": "code",
   "execution_count": 43,
   "id": "091d040b",
   "metadata": {},
   "outputs": [
    {
     "name": "stdout",
     "output_type": "stream",
     "text": [
      "Confusion Matrix:\n",
      "          Backward  Forward   Left  Right   Land  Takeoff\n",
      "Backward     82984       95      7    168     14        9\n",
      "Forward         33    86863      5     76      0       97\n",
      "Left            73        3  82280    108      3        0\n",
      "Right           12        0     81  82021     31       15\n",
      "Land            12        0      0    177  81863        1\n",
      "Takeoff         15     2574      0     46      1    80083\n"
     ]
    }
   ],
   "source": [
    "from sklearn.metrics import confusion_matrix\n",
    "import pandas as pd\n",
    "\n",
    "conf_matrix = confusion_matrix(true_classes, predicted_classes)\n",
    "\n",
    "\n",
    "conf_matrix_df = pd.DataFrame(conf_matrix,\n",
    "                              index=['Backward', 'Forward', 'Left', 'Right', 'Land', 'Takeoff'], \n",
    "                              columns=['Backward', 'Forward', 'Left', 'Right', 'Land', 'Takeoff'])\n",
    "\n",
    "print(\"Confusion Matrix:\")\n",
    "print(conf_matrix_df)"
   ]
  },
  {
   "cell_type": "code",
   "execution_count": 46,
   "id": "f69ce8ab",
   "metadata": {},
   "outputs": [
    {
     "data": {
      "image/png": "[encoded data removed]",
      "text/plain": [
       "<Figure size 1000x700 with 2 Axes>"
      ]
     },
     "metadata": {},
     "output_type": "display_data"
    }
   ],
   "source": [
    "import matplotlib.pyplot as plt\n",
    "import seaborn as sns\n",
    "\n",
    "plt.figure(figsize=(10,7))\n",
    "sns.heatmap(conf_matrix, annot=True, fmt='d', cmap='Blues', xticklabels=['Backward', 'Forward', 'Left', 'Right', 'Land', 'Takeoff'], yticklabels=['Backward', 'Forward', 'Left', 'Right', 'Land', 'Takeoff'])\n",
    "plt.xlabel('Predicted Labels')\n",
    "plt.ylabel('True Labels')\n",
    "plt.title('Confusion Matrix')\n",
    "plt.savefig('ConfusionMatrix.png')\n",
    "plt.show()\n"
   ]
  },
  {
   "cell_type": "code",
   "execution_count": null,
   "id": "e6a3387e",
   "metadata": {},
   "outputs": [],
   "source": []
  }
 ],
 "metadata": {
  "kernelspec": {
   "display_name": "Python 3 (ipykernel)",
   "language": "python",
   "name": "python3"
  },
  "language_info": {
   "codemirror_mode": {
    "name": "ipython",
    "version": 3
   },
   "file_extension": ".py",
   "mimetype": "text/x-python",
   "name": "python",
   "nbconvert_exporter": "python",
   "pygments_lexer": "ipython3",
   "version": "3.12.4"
  }
 },
 "nbformat": 4,
 "nbformat_minor": 5
}
