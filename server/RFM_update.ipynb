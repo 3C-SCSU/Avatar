{
  "metadata": {
    "kernelspec": {
      "name": "python",
      "display_name": "Python (Pyodide)",
      "language": "python"
    },
    "language_info": {
      "codemirror_mode": {
        "name": "python",
        "version": 3
      },
      "file_extension": ".py",
      "mimetype": "text/x-python",
      "name": "python",
      "nbconvert_exporter": "python",
      "pygments_lexer": "ipython3",
      "version": "3.8"
    }
  },
  "nbformat_minor": 5,
  "nbformat": 4,
  "cells": [
    {
      "id": "109bcc38",
      "cell_type": "code",
      "source": "import time\nfrom pathlib import Path\nimport pandas as pd  # ← make sure this is imported\n\n# Define the root directory\nroot_dir = Path(r\"server\")\n\n# Store all dataframes in a list\ndf_list = []\nfile_count = 0\nskipped_count = 0\nmax_files = 1000\n\n# Initialize batch timer\ntotal_initial = time.time()\nbatch_start_time = time.time()\n\n# Loop through all CSV files in all subdirectories\nfor file_path in root_dir.rglob(\"*.csv\"):\n    if file_count >= max_files:\n        break  # Stop after 1000 files\n\n    try:\n        temp_df = pd.read_csv(file_path, delimiter='\\t', header=None, on_bad_lines='skip')\n        label_folder = file_path.parent.name\n        temp_df[\"label\"] = label_folder\n        df_list.append(temp_df)\n        file_count += 1\n\n        # After every 50 files, print status and time\n        if file_count % 50 == 0:\n            batch_duration = time.time() - batch_start_time\n            print(f\"✔ Processed {file_count} files... (last 50 in {batch_duration:.2f} seconds)\")\n            batch_start_time = time.time()  # Reset batch timer\n\n    except Exception as e:\n        skipped_count += 1\n        print(f\"⚠️ Skipped {file_path.name}: {e}\")\n\n# One-time concat — much faster\ndf = pd.concat(df_list, ignore_index=True)\n\n# Print summary\ntotal_duration = time.time() - total_initial\nprint(f\"\\n✅ Loaded data from {file_count} files.\")\nprint(f\"⏱ Total processing time: {total_duration:.2f} seconds\")\nif skipped_count > 0:\n    print(f\"⚠️ Skipped {skipped_count} files due to read errors.\")\nprint(f\"📊 Final dataset shape: {df.shape}\")\n\n# Prepare features/labels\nX = df.drop(\"label\", axis=1)\ny = df[\"label\"]\n\nfrom sklearn.ensemble import RandomForestClassifier\nfrom sklearn.model_selection import train_test_split\nfrom sklearn.preprocessing import LabelEncoder\nfrom sklearn.metrics import classification_report, accuracy_score\n\nlabel_encoder = LabelEncoder()\ny_encoded = label_encoder.fit_transform(y)\n\nX_train, X_test, y_train, y_test = train_test_split(X, y_encoded, test_size=0.2, random_state=42)\n\n# Train Random Forest\nrf = RandomForestClassifier(n_estimators=100, random_state=42)\nrf.fit(X_train, y_train)\n\n# Evaluate\ny_pred = rf.predict(X_test)\nprint(\"\\nClassification Report:\\n\")\nprint(classification_report(y_test, y_pred, target_names=label_encoder.classes_))\nprint(\"Accuracy:\", accuracy_score(y_test, y_pred))\n",
      "metadata": {},
      "outputs": [],
      "execution_count": null
    }
  ]
}